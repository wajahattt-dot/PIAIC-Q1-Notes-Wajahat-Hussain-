{
  "nbformat": 4,
  "nbformat_minor": 0,
  "metadata": {
    "colab": {
      "provenance": []
    },
    "kernelspec": {
      "name": "python3",
      "display_name": "Python 3"
    },
    "language_info": {
      "name": "python"
    }
  },
  "cells": [
    {
      "cell_type": "code",
      "execution_count": 1,
      "metadata": {
        "colab": {
          "base_uri": "https://localhost:8080/"
        },
        "id": "C9GZNFoUyJNO",
        "outputId": "4da60882-fec8-4127-d098-f563d151cac1"
      },
      "outputs": [
        {
          "output_type": "stream",
          "name": "stdout",
          "text": [
            "Delete this line and write your code here! :)\n"
          ]
        }
      ],
      "source": [
        "def main():\n",
        "    print(\"Delete this line and write your code here! :)\")\n",
        "\n",
        "\n",
        "# This provided line is required at the end of\n",
        "# Python file to call the main() function.\n",
        "if __name__ == '__main__':\n",
        "    main()\n",
        "\n",
        "    # Now when we run this cell, project01.ipynb file will be saved in our google drive, but we will upload it manually, as it is convenient and better\n",
        "    # to run the cell, CTRL + Enter\n",
        "    # As you can see it is saved, as it shows ALL CHANGES SAVED\n",
        "    # now we will download this file\n",
        "    # We will go to file section on top left\n",
        "    # And download the file"
      ]
    }
  ]
}