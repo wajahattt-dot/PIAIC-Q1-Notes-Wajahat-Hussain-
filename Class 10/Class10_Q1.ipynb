{
  "nbformat": 4,
  "nbformat_minor": 0,
  "metadata": {
    "colab": {
      "provenance": []
    },
    "kernelspec": {
      "name": "python3",
      "display_name": "Python 3"
    },
    "language_info": {
      "name": "python"
    }
  },
  "cells": [
    {
      "cell_type": "code",
      "execution_count": 4,
      "metadata": {
        "colab": {
          "base_uri": "https://localhost:8080/"
        },
        "id": "O4SoKSjXF3zp",
        "outputId": "9461f392-66c1-4aa8-8d6d-1afedab557b3"
      },
      "outputs": [
        {
          "output_type": "stream",
          "name": "stdout",
          "text": [
            "  % Total    % Received % Xferd  Average Speed   Time    Time     Time  Current\n",
            "                                 Dload  Upload   Total   Spent    Left  Speed\n",
            "\r  0     0    0     0    0     0      0      0 --:--:-- --:--:-- --:--:--     0\r100  3944  100  3944    0     0  37453      0 --:--:-- --:--:-- --:--:-- 37561\n"
          ]
        }
      ],
      "source": [
        "!curl -o helper_functions.py https://raw.githubusercontent.com/panaversity/learn-cloud-native-modern-ai-python/main/07_natural_language_programming/02_ai_python_for_beginners/course1_basics/Lesson_9/helper_functions.py"
      ]
    },
    {
      "cell_type": "code",
      "source": [
        "from helper_functions import *"
      ],
      "metadata": {
        "id": "rGeFWPFTGic2"
      },
      "execution_count": 6,
      "outputs": []
    },
    {
      "cell_type": "code",
      "source": [
        "pwd\n",
        "#linux command to check the running directory"
      ],
      "metadata": {
        "colab": {
          "base_uri": "https://localhost:8080/",
          "height": 36
        },
        "id": "lkwvXksrGr2v",
        "outputId": "9a8601e7-0d06-4d0c-eeb2-bb27e8f71aec"
      },
      "execution_count": 7,
      "outputs": [
        {
          "output_type": "execute_result",
          "data": {
            "text/plain": [
              "'/content'"
            ],
            "application/vnd.google.colaboratory.intrinsic+json": {
              "type": "string"
            }
          },
          "metadata": {},
          "execution_count": 7
        }
      ]
    },
    {
      "cell_type": "code",
      "source": [
        "print_llm_response(\"Who is the prime minister of US\")"
      ],
      "metadata": {
        "colab": {
          "base_uri": "https://localhost:8080/",
          "height": 90
        },
        "id": "eRZoJ6urMFOa",
        "outputId": "dc9c69c8-fd1b-4690-feb8-2e82eb5bb8a1"
      },
      "execution_count": 10,
      "outputs": [
        {
          "output_type": "stream",
          "name": "stdout",
          "text": [
            "The United States does not have a Prime Minister. The head of government in the US is the **President**. \n",
            "\n",
            "The current President of the United States is **Joe Biden**. \n",
            "\n"
          ]
        }
      ]
    },
    {
      "cell_type": "code",
      "source": [
        "21/7"
      ],
      "metadata": {
        "colab": {
          "base_uri": "https://localhost:8080/"
        },
        "id": "wnjrzIbTOP2s",
        "outputId": "430207a6-5ecf-400e-ce7a-01d17b1bc6f9"
      },
      "execution_count": 13,
      "outputs": [
        {
          "output_type": "execute_result",
          "data": {
            "text/plain": [
              "3.0"
            ]
          },
          "metadata": {},
          "execution_count": 13
        }
      ]
    },
    {
      "cell_type": "code",
      "source": [
        "print(\"hello world\")"
      ],
      "metadata": {
        "colab": {
          "base_uri": "https://localhost:8080/"
        },
        "id": "zbYDrsIPOnk-",
        "outputId": "9bf64f40-54e3-479b-b5c3-14725c443100"
      },
      "execution_count": 14,
      "outputs": [
        {
          "output_type": "stream",
          "name": "stdout",
          "text": [
            "hello world\n"
          ]
        }
      ]
    },
    {
      "cell_type": "code",
      "source": [
        "def greet():\n",
        "  print(\"hello world\")\n",
        "  greet()"
      ],
      "metadata": {
        "id": "heMHVCx9WN3t"
      },
      "execution_count": 26,
      "outputs": []
    },
    {
      "cell_type": "code",
      "source": [
        "greet()"
      ],
      "metadata": {
        "colab": {
          "base_uri": "https://localhost:8080/"
        },
        "id": "SgkTU6wSX7gj",
        "outputId": "e23b101b-7485-4bd6-9840-499e8fb503f5"
      },
      "execution_count": 23,
      "outputs": [
        {
          "output_type": "stream",
          "name": "stdout",
          "text": [
            "hello world\n"
          ]
        }
      ]
    },
    {
      "cell_type": "code",
      "source": [
        "greet()"
      ],
      "metadata": {
        "colab": {
          "base_uri": "https://localhost:8080/"
        },
        "id": "DQsz9-8oZFBF",
        "outputId": "432aa14e-e6a6-4e47-c6ac-28fa0edfa008"
      },
      "execution_count": 25,
      "outputs": [
        {
          "output_type": "stream",
          "name": "stdout",
          "text": [
            "hello world\n"
          ]
        }
      ]
    },
    {
      "cell_type": "markdown",
      "source": [],
      "metadata": {
        "id": "-XAn9dh6ZsPR"
      }
    },
    {
      "cell_type": "code",
      "source": [
        "def half_fry():\n",
        "  return (\"Egg \" + \"Oil \"+  \"Salt\")"
      ],
      "metadata": {
        "id": "I31vWsk6ZHHJ"
      },
      "execution_count": 43,
      "outputs": []
    },
    {
      "cell_type": "code",
      "source": [
        "print (half_fry())"
      ],
      "metadata": {
        "colab": {
          "base_uri": "https://localhost:8080/"
        },
        "id": "WpTCehptZrvQ",
        "outputId": "adf22192-d7c0-4803-f163-c84364f1174b"
      },
      "execution_count": 47,
      "outputs": [
        {
          "output_type": "stream",
          "name": "stdout",
          "text": [
            "Egg Oil Salt\n"
          ]
        }
      ]
    },
    {
      "cell_type": "code",
      "source": [
        "recipe_for_umer= half_fry()"
      ],
      "metadata": {
        "id": "SM6gwja2cJrH"
      },
      "execution_count": 48,
      "outputs": []
    },
    {
      "cell_type": "code",
      "source": [
        "print (recipe_for_umer)"
      ],
      "metadata": {
        "colab": {
          "base_uri": "https://localhost:8080/"
        },
        "id": "hGgnff7Ed5Wf",
        "outputId": "a7ef8cb0-0f8b-450c-d17e-ded57c8ce755"
      },
      "execution_count": 46,
      "outputs": [
        {
          "output_type": "stream",
          "name": "stdout",
          "text": [
            "Egg Oil Salt\n"
          ]
        }
      ]
    },
    {
      "cell_type": "code",
      "source": [
        "def full_fry(salt_qty: str = \"2\"):\n",
        "  return(\"Egg \" + \"Oil\"  + salt_qty)"
      ],
      "metadata": {
        "id": "47r_gdb9fuOB"
      },
      "execution_count": 85,
      "outputs": []
    },
    {
      "cell_type": "code",
      "source": [
        "recipe_for_umer= full_fry(\"1\")"
      ],
      "metadata": {
        "id": "dTgZXRykh8vA"
      },
      "execution_count": 86,
      "outputs": []
    },
    {
      "cell_type": "code",
      "source": [
        "print(recipe_for_umer)"
      ],
      "metadata": {
        "colab": {
          "base_uri": "https://localhost:8080/"
        },
        "id": "QVBtfs28iUD3",
        "outputId": "272be59d-6577-4575-baed-3bb13351bb8d"
      },
      "execution_count": 87,
      "outputs": [
        {
          "output_type": "stream",
          "name": "stdout",
          "text": [
            "Egg Oil1\n"
          ]
        }
      ]
    },
    {
      "cell_type": "code",
      "source": [],
      "metadata": {
        "id": "wqBRW0sguvUG"
      },
      "execution_count": null,
      "outputs": []
    }
  ]
}