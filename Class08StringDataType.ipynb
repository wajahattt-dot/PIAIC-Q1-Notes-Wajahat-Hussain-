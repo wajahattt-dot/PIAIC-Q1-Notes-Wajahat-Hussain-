{
  "cells": [
    {
      "cell_type": "markdown",
      "metadata": {
        "id": "view-in-github",
        "colab_type": "text"
      },
      "source": [
        "<a href=\"https://colab.research.google.com/github/wajahattt-dot/PIAIC-Q1-Notes-Wajahat-Hussain-/blob/Class-08/Class08StringDataType.ipynb\" target=\"_parent\"><img src=\"https://colab.research.google.com/assets/colab-badge.svg\" alt=\"Open In Colab\"/></a>"
      ]
    },
    {
      "cell_type": "code",
      "execution_count": null,
      "metadata": {
        "colab": {
          "base_uri": "https://localhost:8080/"
        },
        "id": "21MLs7-4Dpnm",
        "outputId": "fea0b7fb-242f-4629-dc0f-38369060a351"
      },
      "outputs": [
        {
          "name": "stdout",
          "output_type": "stream",
          "text": [
            "hello\n"
          ]
        }
      ],
      "source": [
        "print (\"hello\")"
      ]
    },
    {
      "cell_type": "code",
      "execution_count": null,
      "metadata": {
        "colab": {
          "base_uri": "https://localhost:8080/"
        },
        "id": "pN9xZq43EjR3",
        "outputId": "a3c55b55-e935-450e-9e9e-85cf906bd70e"
      },
      "outputs": [
        {
          "name": "stdout",
          "output_type": "stream",
          "text": [
            "Wajahat\n",
            "<class 'str'>\n",
            "132103207319280\n",
            "132103207319280\n"
          ]
        }
      ],
      "source": [
        "name : str = \"Wajahat\"\n",
        "print (name)\n",
        "print (type(name))\n",
        "print (id(name))\n",
        "\n",
        "name1 : str = \"Wajahat\"\n",
        "print (id(name))"
      ]
    },
    {
      "cell_type": "code",
      "execution_count": null,
      "metadata": {
        "colab": {
          "base_uri": "https://localhost:8080/"
        },
        "id": "Ax1obwvnIWWL",
        "outputId": "b646e8e6-0b36-474e-ecee-d627b0eb6f72"
      },
      "outputs": [
        {
          "name": "stdout",
          "output_type": "stream",
          "text": [
            "hello world, how are you\n"
          ]
        }
      ],
      "source": [
        "data : str = \"hello world, how are you\"\n",
        "print(data)"
      ]
    },
    {
      "cell_type": "code",
      "execution_count": null,
      "metadata": {
        "colab": {
          "base_uri": "https://localhost:8080/"
        },
        "id": "N9PWPR7ZIgyR",
        "outputId": "5bebd434-71fa-4f0d-9393-2b5b956c2373"
      },
      "outputs": [
        {
          "name": "stdout",
          "output_type": "stream",
          "text": [
            "hello world, how are you\n"
          ]
        }
      ],
      "source": [
        "data : str = 'hello world, how are you'\n",
        "print(data)"
      ]
    },
    {
      "cell_type": "code",
      "execution_count": null,
      "metadata": {
        "colab": {
          "base_uri": "https://localhost:8080/"
        },
        "id": "beEqfTL8ItTD",
        "outputId": "215a538c-ed75-4bf7-b6fd-fecfce9c0939"
      },
      "outputs": [
        {
          "name": "stdout",
          "output_type": "stream",
          "text": [
            "('hello world', ' how are you')\n"
          ]
        }
      ],
      "source": [
        "data : str = \"hello world\", \"how are you\"\n",
        "print(data)"
      ]
    },
    {
      "cell_type": "code",
      "execution_count": null,
      "metadata": {
        "colab": {
          "base_uri": "https://localhost:8080/"
        },
        "id": "05-Rd6o6I8nc",
        "outputId": "c37ab462-3f6e-4904-eac4-aeb4e8514dee"
      },
      "outputs": [
        {
          "name": "stdout",
          "output_type": "stream",
          "text": [
            "hello world, how are you\n"
          ]
        }
      ],
      "source": [
        "data : str = \"hello world, how are you\"\n",
        "print(data)"
      ]
    },
    {
      "cell_type": "code",
      "execution_count": null,
      "metadata": {
        "colab": {
          "base_uri": "https://localhost:8080/"
        },
        "id": "mqJetCoTJDxY",
        "outputId": "270ae19c-394d-4480-df2b-8589ff3ea47e"
      },
      "outputs": [
        {
          "name": "stdout",
          "output_type": "stream",
          "text": [
            "hello world, \"how are you\n"
          ]
        }
      ],
      "source": [
        "data : str = 'hello world, \"how are you'\n",
        "print(data)"
      ]
    },
    {
      "cell_type": "code",
      "execution_count": null,
      "metadata": {
        "colab": {
          "base_uri": "https://localhost:8080/"
        },
        "id": "1x-7sVkKJdyS",
        "outputId": "8a309f64-dac4-420b-db72-3c7d551bb25b"
      },
      "outputs": [
        {
          "name": "stdout",
          "output_type": "stream",
          "text": [
            "hello world\", how are you\n"
          ]
        }
      ],
      "source": [
        "data : str = \"hello world\\\", how are you\"\n",
        "print(data)"
      ]
    },
    {
      "cell_type": "code",
      "execution_count": null,
      "metadata": {
        "colab": {
          "base_uri": "https://localhost:8080/",
          "height": 110
        },
        "id": "2f2wdh6mJy5O",
        "outputId": "74f2f8d2-998a-41e9-be00-0a7911af1b64"
      },
      "outputs": [
        {
          "ename": "SyntaxError",
          "evalue": "unterminated string literal (detected at line 1) (<ipython-input-8-0157c05c09f4>, line 1)",
          "output_type": "error",
          "traceback": [
            "\u001b[0;36m  File \u001b[0;32m\"<ipython-input-8-0157c05c09f4>\"\u001b[0;36m, line \u001b[0;32m1\u001b[0m\n\u001b[0;31m    data : str = \"hello world how are you\u001b[0m\n\u001b[0m                 ^\u001b[0m\n\u001b[0;31mSyntaxError\u001b[0m\u001b[0;31m:\u001b[0m unterminated string literal (detected at line 1)\n"
          ]
        }
      ],
      "source": [
        "data : str = \"hello world how are you\n",
        "Pakistan Zindabad\"\n",
        "print(data)"
      ]
    },
    {
      "cell_type": "code",
      "execution_count": null,
      "metadata": {
        "colab": {
          "base_uri": "https://localhost:8080/"
        },
        "id": "rfCbLUadKL60",
        "outputId": "a4d2d5e8-74e1-4839-c401-1fb8daad7546"
      },
      "outputs": [
        {
          "name": "stdout",
          "output_type": "stream",
          "text": [
            "hello world how are youPakistan Zindabad\n"
          ]
        }
      ],
      "source": [
        "data : str = \"hello world how are you\\\n",
        "Pakistan Zindabad\"\n",
        "print(data)"
      ]
    },
    {
      "cell_type": "code",
      "execution_count": null,
      "metadata": {
        "colab": {
          "base_uri": "https://localhost:8080/",
          "height": 72
        },
        "id": "YmmbH9owK_bS",
        "outputId": "d17b7480-432a-4919-888b-93852596208c"
      },
      "outputs": [
        {
          "data": {
            "application/vnd.google.colaboratory.intrinsic+json": {
              "type": "string"
            },
            "text/plain": [
              "'hello world how are you\\nPakistan Zindabad'"
            ]
          },
          "metadata": {},
          "output_type": "display_data"
        },
        {
          "name": "stdout",
          "output_type": "stream",
          "text": [
            "hello world how are you\n",
            "Pakistan Zindabad\n"
          ]
        }
      ],
      "source": [
        "data : str = \"\"\"hello world how are you\n",
        "Pakistan Zindabad\"\"\"\n",
        "display(data)\n",
        "print(data)"
      ]
    },
    {
      "cell_type": "code",
      "execution_count": null,
      "metadata": {
        "colab": {
          "base_uri": "https://localhost:8080/"
        },
        "id": "CpL0ndixL6NT",
        "outputId": "2992c52c-eaf6-4f83-ea11-98f6dfee2021"
      },
      "outputs": [
        {
          "name": "stdout",
          "output_type": "stream",
          "text": [
            "Hello my name is Wajahat and my age is 15 and my date of birth is 2009-04-29\n"
          ]
        }
      ],
      "source": [
        "#concatenation\n",
        "name: str = (\"Wajahat\")\n",
        "age:int = 15\n",
        "dob: str = \"2009-04-29\"\n",
        "\n",
        "message: str = \"Hello my name is \" + name + \" and my age is \" + str(age) + \" and my date of birth is \" + dob\n",
        "\n",
        "print(message)"
      ]
    },
    {
      "cell_type": "code",
      "execution_count": null,
      "metadata": {
        "colab": {
          "base_uri": "https://localhost:8080/"
        },
        "id": "p-QQm9eWOgH5",
        "outputId": "66a6593e-d08f-4fbb-904b-8afb60924c17"
      },
      "outputs": [
        {
          "name": "stdout",
          "output_type": "stream",
          "text": [
            "Hello my name is Wajahat and my age is 15  and my date of birth is 2009-04-29\n"
          ]
        }
      ],
      "source": [
        "#concatenation\n",
        "name: str = (\"Wajahat\")\n",
        "age:int = 15\n",
        "dob: str = \"2009-04-29\"\n",
        "\n",
        "message: str = \"Hello my name is %s and my age is %d  and my date of birth is %s\" %(name, age, dob)\n",
        "\n",
        "print(message)"
      ]
    },
    {
      "cell_type": "code",
      "execution_count": null,
      "metadata": {
        "colab": {
          "base_uri": "https://localhost:8080/"
        },
        "id": "2Ut36IrCO62X",
        "outputId": "6e525bf1-a55a-4002-9412-e29291854680"
      },
      "outputs": [
        {
          "name": "stdout",
          "output_type": "stream",
          "text": [
            "Hello my name is Wajahat and my age is 15 and my date of birth is 2009-04-29\n"
          ]
        }
      ],
      "source": [
        "#concatenation\n",
        "name: str = (\"Wajahat\")\n",
        "age:int = 15\n",
        "dob: str = \"2009-04-29\"\n",
        "\n",
        "message: str = \"Hello my name is {} and my age is {} and my date of birth is {}\" .format(name, age, dob)\n",
        "\n",
        "print(message)"
      ]
    },
    {
      "cell_type": "code",
      "execution_count": null,
      "metadata": {
        "id": "a1BkMGXaPYNj"
      },
      "outputs": [],
      "source": [
        "#concatenation\n",
        "name: str = (\"Wajahat\")\n",
        "age:int = 15\n",
        "dob: str = \"2009-04-29\"\n",
        "\n",
        "message: str = \"Hello my name is {} and my age is {} and my date of birth is {}\" .format(name, age, dob)\n",
        "\n",
        "print(message)"
      ]
    },
    {
      "cell_type": "code",
      "execution_count": null,
      "metadata": {
        "colab": {
          "base_uri": "https://localhost:8080/",
          "height": 331
        },
        "id": "ibeFDCrEP0sD",
        "outputId": "59cdb76d-8cc2-467a-d9df-c379f5828da1"
      },
      "outputs": [
        {
          "name": "stderr",
          "output_type": "stream",
          "text": [
            "<>:11: SyntaxWarning: 'str' object is not callable; perhaps you missed a comma?\n",
            "<>:11: SyntaxWarning: 'str' object is not callable; perhaps you missed a comma?\n",
            "<ipython-input-21-bacedfb30877>:11: SyntaxWarning: 'str' object is not callable; perhaps you missed a comma?\n",
            "  message: str = f\"\"\"Hello my name is {name} and my age is {age + 1} and my date of birth is {dob} and my salary is {salary}\"\"\" (name, age, dob)\n"
          ]
        },
        {
          "ename": "TypeError",
          "evalue": "'str' object is not callable",
          "output_type": "error",
          "traceback": [
            "\u001b[0;31m---------------------------------------------------------------------------\u001b[0m",
            "\u001b[0;31mTypeError\u001b[0m                                 Traceback (most recent call last)",
            "\u001b[0;32m<ipython-input-21-bacedfb30877>\u001b[0m in \u001b[0;36m<cell line: 11>\u001b[0;34m()\u001b[0m\n\u001b[1;32m      9\u001b[0m \u001b[0msalary\u001b[0m \u001b[0;34m:\u001b[0m \u001b[0mfloat\u001b[0m \u001b[0;34m=\u001b[0m \u001b[0;36m100000.00\u001b[0m\u001b[0;34m\u001b[0m\u001b[0;34m\u001b[0m\u001b[0m\n\u001b[1;32m     10\u001b[0m \u001b[0;34m\u001b[0m\u001b[0m\n\u001b[0;32m---> 11\u001b[0;31m \u001b[0mmessage\u001b[0m\u001b[0;34m:\u001b[0m \u001b[0mstr\u001b[0m \u001b[0;34m=\u001b[0m \u001b[0;34mf\"\"\"Hello my name is {name} and my age is {age + 1} and my date of birth is {dob} and my salary is {salary}\"\"\"\u001b[0m \u001b[0;34m(\u001b[0m\u001b[0mname\u001b[0m\u001b[0;34m,\u001b[0m \u001b[0mage\u001b[0m\u001b[0;34m,\u001b[0m \u001b[0mdob\u001b[0m\u001b[0;34m)\u001b[0m\u001b[0;34m\u001b[0m\u001b[0;34m\u001b[0m\u001b[0m\n\u001b[0m\u001b[1;32m     12\u001b[0m \u001b[0;34m\u001b[0m\u001b[0m\n\u001b[1;32m     13\u001b[0m \u001b[0mprint\u001b[0m\u001b[0;34m(\u001b[0m\u001b[0mmessage\u001b[0m\u001b[0;34m)\u001b[0m\u001b[0;34m\u001b[0m\u001b[0;34m\u001b[0m\u001b[0m\n",
            "\u001b[0;31mTypeError\u001b[0m: 'str' object is not callable"
          ]
        }
      ],
      "source": [
        "#concatenation\n",
        "#function f string\n",
        "# we can do calculations in f string\n",
        "\n",
        "#float data type shows evey number entered\n",
        "name: str = (\"Wajahat\")\n",
        "age:int = 15\n",
        "dob: str = \"2009-04-29\"\n",
        "salary : float = 100000.00\n",
        "\n",
        "message: str = f\"\"\"Hello my name is {name} and my age is {age + 1} and my date of birth is {dob} and my salary is {salary}\"\"\" .fornat(name, age, dob)\n",
        "\n",
        "print(message)"
      ]
    },
    {
      "cell_type": "code",
      "execution_count": null,
      "metadata": {
        "colab": {
          "base_uri": "https://localhost:8080/"
        },
        "id": "KTwMM25LR_80",
        "outputId": "b4f04b57-3b8b-4e8c-98af-7791fc35f380"
      },
      "outputs": [
        {
          "name": "stdout",
          "output_type": "stream",
          "text": [
            "NAME = WAJAHAT HUSSAIN\n",
            "ROLL NO = 21794\n",
            "Distance Learning = No\n",
            "CITY = Karachi\n",
            "CENTR = Bahria Auditorium\n",
            "CAMPUS = Karsaz\n",
            "DATE/TIME = Sunday 9-1\n"
          ]
        }
      ],
      "source": [
        "name: str = \"WAJAHAT HUSSAIN\"\n",
        "rollno : int = 21794\n",
        "dl: str = \"No\"\n",
        "c: str = \"Karachi\"\n",
        "cntr: str = \"Bahria Auditorium\" # Removed the extra \" and assigned the string to cntr\n",
        "campus: str = \"Karsaz\" # Assign the string \"Karsaz\" to the variable campus\n",
        "dt: str = \"Sunday 9-1\"\n",
        "\n",
        "\n",
        "Card: str =f\"\"\"NAME = {name}\n",
        "ROLL NO = {rollno}\n",
        "Distance Learning = {dl}\n",
        "CITY = {c}\n",
        "CENTR = {cntr}\n",
        "CAMPUS = {campus}\n",
        "DATE/TIME = {dt}\"\"\"\n",
        "\n",
        "print(Card)"
      ]
    },
    {
      "cell_type": "code",
      "source": [
        "# Step 1: Import required libraries\n",
        "from PIL import Image, ImageDraw, ImageFont\n",
        "from google.colab import files\n",
        "\n",
        "# Step 2: Define card size and colors\n",
        "card_width = 900\n",
        "card_height = 500\n",
        "\n",
        "# Colors\n",
        "background_color = (255, 255, 255)  # White background\n",
        "dark_green = (0, 100, 0)  # For main text and borders\n",
        "light_green = (184, 220, 205)  # Light green for details\n",
        "red = (193, 0, 0)  # Red bar for 'Q1'\n",
        "blue_background = (153, 204, 255)  # Light blue background for profile image\n",
        "black = (0, 0, 0)  # Text color\n",
        "\n",
        "# Step 3: Create a new blank image (white background)\n",
        "id_card = Image.new('RGB', (card_width, card_height), background_color)\n",
        "draw = ImageDraw.Draw(id_card)\n",
        "\n",
        "# Step 4: Draw borders and sections\n",
        "# Outer Border\n",
        "border_thickness = 5\n",
        "draw.rectangle([(0, 0), (card_width, card_height)], outline=dark_green, width=border_thickness)\n",
        "\n",
        "# Step 5: Upload profile picture (run this cell and manually upload your image)\n",
        "print(\"Please upload the profile picture.\")\n",
        "uploaded = files.upload()\n",
        "\n",
        "# Get the uploaded image filename\n",
        "image_filename = next(iter(uploaded))\n",
        "\n",
        "# Step 6: Load fonts (Use default fonts if truetype not available)\n",
        "try:\n",
        "    font_title = ImageFont.truetype('/usr/share/fonts/truetype/dejavu/DejaVuSans-Bold.ttf', 35)\n",
        "    font_text = ImageFont.truetype('/usr/share/fonts/truetype/dejavu/DejaVuSans-Bold.ttf', 20)\n",
        "    font_small = ImageFont.truetype('/usr/share/fonts/truetype/dejavu/DejaVuSans-Bold.ttf', 16)\n",
        "    font_signature = ImageFont.truetype('/usr/share/fonts/truetype/dejavu/DejaVuSans-Bold.ttf', 24)\n",
        "except:\n",
        "    # Use default fonts if the above fonts are not available\n",
        "    font_title = ImageFont.load_default()\n",
        "    font_text = ImageFont.load_default()\n",
        "    font_small = ImageFont.load_default()\n",
        "    font_signature = ImageFont.load_default()\n",
        "\n",
        "# Step 7: Add main title \"ID CARD\"\n",
        "draw.text((50, 20), \"ID CARD\", font=font_title, fill=dark_green)\n",
        "\n",
        "# Draw a horizontal line under the title\n",
        "draw.line((50, 70, card_width - 50, 70), fill=dark_green, width=3)\n",
        "\n",
        "# Step 8: Add personal details (text aligned and sized based on the original card)\n",
        "details = [\n",
        "    (\"Name: Wajahat Hussain Sangi\", (50, 90)),\n",
        "    (\"Roll No: PIAIC234716\", (50, 130)),\n",
        "    (\"Distance learning: No\", (50, 170)),\n",
        "    (\"City: Karachi\", (50, 210)),\n",
        "    (\"Center: Bahria Auditorium\", (50, 250)),\n",
        "    (\"Campus: Karsaz\", (50, 290)),\n",
        "    (\"Days / Time: Sunday - 09:00 AM to 01:00 PM\", (50, 330)),\n",
        "    (\"Batch 61\", (50, 370))\n",
        "]\n",
        "\n",
        "for text, position in details:\n",
        "    draw.text(position, text, font=font_text, fill=black)\n",
        "\n",
        "# Step 9: Load and place the profile picture\n",
        "profile_pic = Image.open(image_filename)\n",
        "profile_pic = profile_pic.resize((150, 180))  # Resize the uploaded image to fit in the profile box\n",
        "\n",
        "# Step 12: Add light blue background behind the profile picture\n",
        "draw.rectangle([(600, 70), (780, 290)], fill=blue_background)\n",
        "\n",
        "# Paste the profile picture onto the card\n",
        "id_card.paste(profile_pic, (600, 70))\n",
        "\n",
        "# Step 13: Save and display the ID card\n",
        "id_card.save('final_generated_id_card.png')\n",
        "\n",
        "# Step 14: Download the image\n",
        "files.download('final_generated_id_card.png')\n",
        "\n",
        "# Step 15: Display the ID card in Colab\n",
        "id_card.show()\n"
      ],
      "metadata": {
        "colab": {
          "base_uri": "https://localhost:8080/",
          "height": 90
        },
        "id": "osOPvgy-lepJ",
        "outputId": "90cc3899-b5e2-46ce-d928-e3c90be3f710"
      },
      "execution_count": 1,
      "outputs": [
        {
          "output_type": "stream",
          "name": "stdout",
          "text": [
            "Please upload the profile picture.\n"
          ]
        },
        {
          "output_type": "display_data",
          "data": {
            "text/plain": [
              "<IPython.core.display.HTML object>"
            ],
            "text/html": [
              "\n",
              "     <input type=\"file\" id=\"files-cb86b97f-b034-403b-a9cb-370b30057499\" name=\"files[]\" multiple disabled\n",
              "        style=\"border:none\" />\n",
              "     <output id=\"result-cb86b97f-b034-403b-a9cb-370b30057499\">\n",
              "      Upload widget is only available when the cell has been executed in the\n",
              "      current browser session. Please rerun this cell to enable.\n",
              "      </output>\n",
              "      <script>// Copyright 2017 Google LLC\n",
              "//\n",
              "// Licensed under the Apache License, Version 2.0 (the \"License\");\n",
              "// you may not use this file except in compliance with the License.\n",
              "// You may obtain a copy of the License at\n",
              "//\n",
              "//      http://www.apache.org/licenses/LICENSE-2.0\n",
              "//\n",
              "// Unless required by applicable law or agreed to in writing, software\n",
              "// distributed under the License is distributed on an \"AS IS\" BASIS,\n",
              "// WITHOUT WARRANTIES OR CONDITIONS OF ANY KIND, either express or implied.\n",
              "// See the License for the specific language governing permissions and\n",
              "// limitations under the License.\n",
              "\n",
              "/**\n",
              " * @fileoverview Helpers for google.colab Python module.\n",
              " */\n",
              "(function(scope) {\n",
              "function span(text, styleAttributes = {}) {\n",
              "  const element = document.createElement('span');\n",
              "  element.textContent = text;\n",
              "  for (const key of Object.keys(styleAttributes)) {\n",
              "    element.style[key] = styleAttributes[key];\n",
              "  }\n",
              "  return element;\n",
              "}\n",
              "\n",
              "// Max number of bytes which will be uploaded at a time.\n",
              "const MAX_PAYLOAD_SIZE = 100 * 1024;\n",
              "\n",
              "function _uploadFiles(inputId, outputId) {\n",
              "  const steps = uploadFilesStep(inputId, outputId);\n",
              "  const outputElement = document.getElementById(outputId);\n",
              "  // Cache steps on the outputElement to make it available for the next call\n",
              "  // to uploadFilesContinue from Python.\n",
              "  outputElement.steps = steps;\n",
              "\n",
              "  return _uploadFilesContinue(outputId);\n",
              "}\n",
              "\n",
              "// This is roughly an async generator (not supported in the browser yet),\n",
              "// where there are multiple asynchronous steps and the Python side is going\n",
              "// to poll for completion of each step.\n",
              "// This uses a Promise to block the python side on completion of each step,\n",
              "// then passes the result of the previous step as the input to the next step.\n",
              "function _uploadFilesContinue(outputId) {\n",
              "  const outputElement = document.getElementById(outputId);\n",
              "  const steps = outputElement.steps;\n",
              "\n",
              "  const next = steps.next(outputElement.lastPromiseValue);\n",
              "  return Promise.resolve(next.value.promise).then((value) => {\n",
              "    // Cache the last promise value to make it available to the next\n",
              "    // step of the generator.\n",
              "    outputElement.lastPromiseValue = value;\n",
              "    return next.value.response;\n",
              "  });\n",
              "}\n",
              "\n",
              "/**\n",
              " * Generator function which is called between each async step of the upload\n",
              " * process.\n",
              " * @param {string} inputId Element ID of the input file picker element.\n",
              " * @param {string} outputId Element ID of the output display.\n",
              " * @return {!Iterable<!Object>} Iterable of next steps.\n",
              " */\n",
              "function* uploadFilesStep(inputId, outputId) {\n",
              "  const inputElement = document.getElementById(inputId);\n",
              "  inputElement.disabled = false;\n",
              "\n",
              "  const outputElement = document.getElementById(outputId);\n",
              "  outputElement.innerHTML = '';\n",
              "\n",
              "  const pickedPromise = new Promise((resolve) => {\n",
              "    inputElement.addEventListener('change', (e) => {\n",
              "      resolve(e.target.files);\n",
              "    });\n",
              "  });\n",
              "\n",
              "  const cancel = document.createElement('button');\n",
              "  inputElement.parentElement.appendChild(cancel);\n",
              "  cancel.textContent = 'Cancel upload';\n",
              "  const cancelPromise = new Promise((resolve) => {\n",
              "    cancel.onclick = () => {\n",
              "      resolve(null);\n",
              "    };\n",
              "  });\n",
              "\n",
              "  // Wait for the user to pick the files.\n",
              "  const files = yield {\n",
              "    promise: Promise.race([pickedPromise, cancelPromise]),\n",
              "    response: {\n",
              "      action: 'starting',\n",
              "    }\n",
              "  };\n",
              "\n",
              "  cancel.remove();\n",
              "\n",
              "  // Disable the input element since further picks are not allowed.\n",
              "  inputElement.disabled = true;\n",
              "\n",
              "  if (!files) {\n",
              "    return {\n",
              "      response: {\n",
              "        action: 'complete',\n",
              "      }\n",
              "    };\n",
              "  }\n",
              "\n",
              "  for (const file of files) {\n",
              "    const li = document.createElement('li');\n",
              "    li.append(span(file.name, {fontWeight: 'bold'}));\n",
              "    li.append(span(\n",
              "        `(${file.type || 'n/a'}) - ${file.size} bytes, ` +\n",
              "        `last modified: ${\n",
              "            file.lastModifiedDate ? file.lastModifiedDate.toLocaleDateString() :\n",
              "                                    'n/a'} - `));\n",
              "    const percent = span('0% done');\n",
              "    li.appendChild(percent);\n",
              "\n",
              "    outputElement.appendChild(li);\n",
              "\n",
              "    const fileDataPromise = new Promise((resolve) => {\n",
              "      const reader = new FileReader();\n",
              "      reader.onload = (e) => {\n",
              "        resolve(e.target.result);\n",
              "      };\n",
              "      reader.readAsArrayBuffer(file);\n",
              "    });\n",
              "    // Wait for the data to be ready.\n",
              "    let fileData = yield {\n",
              "      promise: fileDataPromise,\n",
              "      response: {\n",
              "        action: 'continue',\n",
              "      }\n",
              "    };\n",
              "\n",
              "    // Use a chunked sending to avoid message size limits. See b/62115660.\n",
              "    let position = 0;\n",
              "    do {\n",
              "      const length = Math.min(fileData.byteLength - position, MAX_PAYLOAD_SIZE);\n",
              "      const chunk = new Uint8Array(fileData, position, length);\n",
              "      position += length;\n",
              "\n",
              "      const base64 = btoa(String.fromCharCode.apply(null, chunk));\n",
              "      yield {\n",
              "        response: {\n",
              "          action: 'append',\n",
              "          file: file.name,\n",
              "          data: base64,\n",
              "        },\n",
              "      };\n",
              "\n",
              "      let percentDone = fileData.byteLength === 0 ?\n",
              "          100 :\n",
              "          Math.round((position / fileData.byteLength) * 100);\n",
              "      percent.textContent = `${percentDone}% done`;\n",
              "\n",
              "    } while (position < fileData.byteLength);\n",
              "  }\n",
              "\n",
              "  // All done.\n",
              "  yield {\n",
              "    response: {\n",
              "      action: 'complete',\n",
              "    }\n",
              "  };\n",
              "}\n",
              "\n",
              "scope.google = scope.google || {};\n",
              "scope.google.colab = scope.google.colab || {};\n",
              "scope.google.colab._files = {\n",
              "  _uploadFiles,\n",
              "  _uploadFilesContinue,\n",
              "};\n",
              "})(self);\n",
              "</script> "
            ]
          },
          "metadata": {}
        },
        {
          "output_type": "stream",
          "name": "stdout",
          "text": [
            "Saving IMG_20240804_211916.png to IMG_20240804_211916.png\n"
          ]
        },
        {
          "output_type": "display_data",
          "data": {
            "text/plain": [
              "<IPython.core.display.Javascript object>"
            ],
            "application/javascript": [
              "\n",
              "    async function download(id, filename, size) {\n",
              "      if (!google.colab.kernel.accessAllowed) {\n",
              "        return;\n",
              "      }\n",
              "      const div = document.createElement('div');\n",
              "      const label = document.createElement('label');\n",
              "      label.textContent = `Downloading \"${filename}\": `;\n",
              "      div.appendChild(label);\n",
              "      const progress = document.createElement('progress');\n",
              "      progress.max = size;\n",
              "      div.appendChild(progress);\n",
              "      document.body.appendChild(div);\n",
              "\n",
              "      const buffers = [];\n",
              "      let downloaded = 0;\n",
              "\n",
              "      const channel = await google.colab.kernel.comms.open(id);\n",
              "      // Send a message to notify the kernel that we're ready.\n",
              "      channel.send({})\n",
              "\n",
              "      for await (const message of channel.messages) {\n",
              "        // Send a message to notify the kernel that we're ready.\n",
              "        channel.send({})\n",
              "        if (message.buffers) {\n",
              "          for (const buffer of message.buffers) {\n",
              "            buffers.push(buffer);\n",
              "            downloaded += buffer.byteLength;\n",
              "            progress.value = downloaded;\n",
              "          }\n",
              "        }\n",
              "      }\n",
              "      const blob = new Blob(buffers, {type: 'application/binary'});\n",
              "      const a = document.createElement('a');\n",
              "      a.href = window.URL.createObjectURL(blob);\n",
              "      a.download = filename;\n",
              "      div.appendChild(a);\n",
              "      a.click();\n",
              "      div.remove();\n",
              "    }\n",
              "  "
            ]
          },
          "metadata": {}
        },
        {
          "output_type": "display_data",
          "data": {
            "text/plain": [
              "<IPython.core.display.Javascript object>"
            ],
            "application/javascript": [
              "download(\"download_939d2908-c57c-427f-b24c-72d7cb411fa7\", \"final_generated_id_card.png\", 46074)"
            ]
          },
          "metadata": {}
        }
      ]
    }
  ],
  "metadata": {
    "accelerator": "TPU",
    "colab": {
      "gpuType": "V28",
      "provenance": [],
      "authorship_tag": "ABX9TyOAA8o9+J7qQb3oLp20H8P+",
      "include_colab_link": true
    },
    "kernelspec": {
      "display_name": "Python 3",
      "name": "python3"
    },
    "language_info": {
      "name": "python"
    }
  },
  "nbformat": 4,
  "nbformat_minor": 0
}